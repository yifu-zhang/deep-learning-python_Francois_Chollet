{
 "cells": [
  {
   "cell_type": "markdown",
   "id": "bc399353",
   "metadata": {},
   "source": [
    "## Processing raw IMDB text data\n",
    "take a look at the content of these text files. No matter working with what kinds of data, always remeber to inspect what data looks like before diving into modeling it."
   ]
  },
  {
   "cell_type": "code",
   "execution_count": null,
   "id": "3288edc4",
   "metadata": {},
   "outputs": [],
   "source": [
    "!cat aclImdb/train/pos/4077_10.txt"
   ]
  },
  {
   "cell_type": "markdown",
   "id": "1a75ace5",
   "metadata": {},
   "source": [
    "Next, prepare a validation set by setting apart 20% of the training text files in a new directory, aclImdb/val:\n",
    "### Run only once"
   ]
  },
  {
   "cell_type": "code",
   "execution_count": null,
   "id": "a7db4725",
   "metadata": {},
   "outputs": [],
   "source": [
    "import os, pathlib, shutil, random\n",
    "\n",
    "base_dir = pathlib.Path(\"aclImdb\")\n",
    "val_dir = base_dir/\"val\"\n",
    "train_dir = base_dir/\"train\"\n",
    "\n",
    "for category in (\"neg\", \"pos\"):\n",
    "    os.makedirs(val_dir / category)\n",
    "    files = os.listdir(train_dir / category)\n",
    "    random.Random(714).shuffle(files)\n",
    "    num_val_samples = int(0.2 * len(files))\n",
    "    val_files = files[-num_val_samples:]\n",
    "    for fname in val_files:\n",
    "        shutil.move(train_dir / category / fname,\n",
    "                    val_dir / category / fname)"
   ]
  },
  {
   "cell_type": "markdown",
   "id": "12bf7719",
   "metadata": {},
   "source": [
    "Create three $Dataset$ objects for training, validation, and test."
   ]
  },
  {
   "cell_type": "code",
   "execution_count": 5,
   "id": "abbd5c57",
   "metadata": {},
   "outputs": [
    {
     "name": "stdout",
     "output_type": "stream",
     "text": [
      "Found 20000 files belonging to 2 classes.\n",
      "Found 5000 files belonging to 2 classes.\n",
      "Found 25000 files belonging to 2 classes.\n"
     ]
    }
   ],
   "source": [
    "from tensorflow import keras\n",
    "\n",
    "batch_size = 32\n",
    "train_ds = keras.preprocessing.text_dataset_from_directory(\"aclImdb/train\",\n",
    "                                                           batch_size=batch_size)\n",
    "val_ds = keras.preprocessing.text_dataset_from_directory(\"aclImdb/val\",\n",
    "                                                         batch_size=batch_size)\n",
    "test_ds = keras.preprocessing.text_dataset_from_directory(\"aclImdb/test\",\n",
    "                                                          batch_size=batch_size)"
   ]
  },
  {
   "cell_type": "markdown",
   "id": "1bf7735e",
   "metadata": {},
   "source": [
    "Displaying the shapes and dtypes of the first batch."
   ]
  },
  {
   "cell_type": "code",
   "execution_count": 7,
   "id": "067c6237",
   "metadata": {},
   "outputs": [
    {
     "name": "stdout",
     "output_type": "stream",
     "text": [
      "inputs.shape: (32,)\n",
      "inputs.dtype: <dtype: 'string'>\n",
      "targets.shape: (32,)\n",
      "targets.dtype: <dtype: 'int32'>\n"
     ]
    }
   ],
   "source": [
    "for inputs, targets in train_ds:\n",
    "    print(\"inputs.shape:\", inputs.shape)\n",
    "    print(\"inputs.dtype:\", inputs.dtype)\n",
    "    print(\"targets.shape:\", targets.shape)\n",
    "    print(\"targets.dtype:\", targets.dtype)\n",
    "    # print(\"inputs[0]:\", inputs[0])\n",
    "    # print(\"targets[0]:\", targets[0])\n",
    "    break"
   ]
  },
  {
   "cell_type": "markdown",
   "id": "5145c1e4",
   "metadata": {},
   "source": [
    "### Preprocessing words as a set: the bag-of-words approach"
   ]
  }
 ],
 "metadata": {
  "kernelspec": {
   "display_name": "Python 3",
   "language": "python",
   "name": "python3"
  },
  "language_info": {
   "codemirror_mode": {
    "name": "ipython",
    "version": 3
   },
   "file_extension": ".py",
   "mimetype": "text/x-python",
   "name": "python",
   "nbconvert_exporter": "python",
   "pygments_lexer": "ipython3",
   "version": "3.6.9"
  }
 },
 "nbformat": 4,
 "nbformat_minor": 5
}
