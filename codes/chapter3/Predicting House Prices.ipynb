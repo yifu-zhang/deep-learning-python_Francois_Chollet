{
 "cells": [
  {
   "cell_type": "markdown",
   "id": "8cc3dccb",
   "metadata": {},
   "source": [
    "## Predicting House Prices\n",
    "A regression example. In this section, we'll predict the median price of homes in a given Boston suburb in the mid-1970s, given data points about the suburb at the time, such as the crime rate, the local property tax rate, and so on. Each feature in the input data has a different scale. For instance, some values are proportions, which take values between 0 and 1; others take values between 1 and 12, others between 0 and 100, and so on."
   ]
  },
  {
   "cell_type": "code",
   "execution_count": 2,
   "id": "27b2d26a",
   "metadata": {},
   "outputs": [],
   "source": [
    "import warnings\n",
    "\n",
    "warnings.filterwarnings('ignore')"
   ]
  },
  {
   "cell_type": "code",
   "execution_count": 3,
   "id": "9e81f641",
   "metadata": {},
   "outputs": [],
   "source": [
    "from keras.datasets import boston_housing\n",
    "\n",
    "(train_data, train_targets), (test_data, test_targets) = boston_housing.load_data()"
   ]
  },
  {
   "cell_type": "markdown",
   "id": "532f955e",
   "metadata": {},
   "source": [
    "Let's look at the data"
   ]
  },
  {
   "cell_type": "code",
   "execution_count": 4,
   "id": "ebf79d43",
   "metadata": {},
   "outputs": [
    {
     "data": {
      "text/plain": [
       "(404, 13)"
      ]
     },
     "execution_count": 4,
     "metadata": {},
     "output_type": "execute_result"
    }
   ],
   "source": [
    "train_data.shape"
   ]
  },
  {
   "cell_type": "code",
   "execution_count": 5,
   "id": "23cd6837",
   "metadata": {},
   "outputs": [
    {
     "data": {
      "text/plain": [
       "(102, 13)"
      ]
     },
     "execution_count": 5,
     "metadata": {},
     "output_type": "execute_result"
    }
   ],
   "source": [
    "test_data.shape"
   ]
  },
  {
   "cell_type": "code",
   "execution_count": null,
   "id": "e4119ef1",
   "metadata": {
    "scrolled": true
   },
   "outputs": [],
   "source": [
    "train_targets"
   ]
  },
  {
   "cell_type": "markdown",
   "id": "2e4ffcfb",
   "metadata": {},
   "source": [
    "### Preparing the data\n",
    "It would be problematic to feed into a neural network values that all take widly different ranges. The network might be able to automatically adapt to such heterogeneous data, but it would definitely make learning difficult. A widespread best practice is standarization"
   ]
  },
  {
   "cell_type": "code",
   "execution_count": 7,
   "id": "8faf0cc0",
   "metadata": {},
   "outputs": [],
   "source": [
    "mean = train_data.mean(axis=0)\n",
    "train_data -= mean\n",
    "std = train_data.std(axis=0)\n",
    "train_data /= std\n",
    "\n",
    "test_data -= mean\n",
    "test_data /= std"
   ]
  },
  {
   "cell_type": "markdown",
   "id": "c2ce0a86",
   "metadata": {},
   "source": [
    "Note that the quantities used for normalizing the test data are computed using the training data. You should never use in your workflow any quantity computed on the test data, even for something as simple as data normalization.\n",
    "### Building network"
   ]
  },
  {
   "cell_type": "code",
   "execution_count": 8,
   "id": "e087c737",
   "metadata": {},
   "outputs": [],
   "source": [
    "from keras import models\n",
    "from keras import layers\n",
    "\n",
    "def build_model():\n",
    "    model = models.Sequential()\n",
    "    model.add(layers.Dense(64, activation='relu', input_shape=(train_data.shape[1],)))\n",
    "    model.add(layers.Dense(64, activation='relu'))\n",
    "    model.add(layers.Dense(1))\n",
    "    \n",
    "    model.compile(optimizer='rmsprop', loss='mse', metrics=['mae'])\n",
    "    return model"
   ]
  },
  {
   "cell_type": "markdown",
   "id": "a41f5ee8",
   "metadata": {},
   "source": [
    "The network ends with a single unit and no activation. This is a typical setup fir scakar regression. Here, because the last layer is purely linear, the network is free to learn to predict values in any range. Monitoring a new metric during training:*mean absolute error (MAE)*. It's the absolute value of the difference between predictions and the targets. For instance, an MAE of 0.5 on this problem would mean your predictions are off by $500 on average.\n",
    "### Validating approach using K-fold validation\n",
    "Since I have this part knowledge, there will be no explaination about cross_validation"
   ]
  },
  {
   "cell_type": "code",
   "execution_count": 10,
   "id": "0db5a78f",
   "metadata": {},
   "outputs": [
    {
     "name": "stdout",
     "output_type": "stream",
     "text": [
      "processing fold # 0\n",
      "processing fold # 1\n",
      "processing fold # 2\n",
      "processing fold # 3\n"
     ]
    }
   ],
   "source": [
    "import numpy as np\n",
    "\n",
    "k = 4\n",
    "num_val_samples = len(train_data) // k\n",
    "num_epochs = 100\n",
    "all_scores = []\n",
    "\n",
    "for i in range(k):\n",
    "    # use for tracking\n",
    "    print('processing fold #', i)\n",
    "    \n",
    "    val_data = train_data[i*num_val_samples: (i+1)*num_val_samples]\n",
    "    val_targets = train_targets[i*num_val_samples: (i+1)*num_val_samples]\n",
    "    \n",
    "    partial_train_data = np.concatenate(\n",
    "    [train_data[:i*num_val_samples],\n",
    "     train_data[(i+1)*num_val_samples:]],\n",
    "     axis=0)\n",
    "    \n",
    "    partial_train_targets = np.concatenate(\n",
    "    [train_targets[:i*num_val_samples],\n",
    "     train_targets[(i+1)*num_val_samples:]],\n",
    "     axis=0)\n",
    "    \n",
    "    model = build_model()\n",
    "    model.fit(partial_train_data, partial_train_targets,\n",
    "             epochs = num_epochs, batch_size = 1, verbose=0)\n",
    "    val_mse, val_mae = model.evaluate(val_data, val_targets, verbose=0)\n",
    "    all_scores.append(val_mae)"
   ]
  },
  {
   "cell_type": "code",
   "execution_count": 11,
   "id": "7beb9c87",
   "metadata": {},
   "outputs": [
    {
     "data": {
      "text/plain": [
       "[1.9059053659439087, 3.2479372024536133, 2.884260416030884, 2.3329639434814453]"
      ]
     },
     "execution_count": 11,
     "metadata": {},
     "output_type": "execute_result"
    }
   ],
   "source": [
    "all_scores"
   ]
  },
  {
   "cell_type": "code",
   "execution_count": 12,
   "id": "ee5f21a8",
   "metadata": {
    "scrolled": true
   },
   "outputs": [
    {
     "data": {
      "text/plain": [
       "2.5927667319774628"
      ]
     },
     "execution_count": 12,
     "metadata": {},
     "output_type": "execute_result"
    }
   ],
   "source": [
    "np.mean(all_scores)"
   ]
  },
  {
   "cell_type": "markdown",
   "id": "38aeebb2",
   "metadata": {},
   "source": [
    "The different runs do indeed show rather different validation scores. In this case, you're off by $2,400 on average, which is significant considering that the prices range from 10,000 to 50,000.\n",
    "### Saving the validation logs at each fold"
   ]
  },
  {
   "cell_type": "code",
   "execution_count": 13,
   "id": "226bd31c",
   "metadata": {},
   "outputs": [
    {
     "name": "stdout",
     "output_type": "stream",
     "text": [
      "processing fold # 0\n",
      "processing fold # 1\n",
      "processing fold # 2\n",
      "processing fold # 3\n"
     ]
    }
   ],
   "source": [
    "num_epochs = 500\n",
    "all_mae_histories = []\n",
    "\n",
    "for i in range(k):\n",
    "    # use for tracking\n",
    "    print('processing fold #', i)\n",
    "    \n",
    "    val_data = train_data[i*num_val_samples:(i+1)*num_val_samples]\n",
    "    val_targets = train_targets[i*num_val_samples:(i+1)*num_val_samples]\n",
    "    \n",
    "    partial_train_data = np.concatenate(\n",
    "    [train_data[:i*num_val_samples],\n",
    "     train_data[(i+1)*num_val_samples:]],\n",
    "     axis=0)\n",
    "    \n",
    "    partial_train_targets = np.concatenate(\n",
    "    [train_targets[:i*num_val_samples],\n",
    "     train_targets[(i+1)*num_val_samples:]],\n",
    "     axis=0)\n",
    "    \n",
    "    model = build_model()\n",
    "    history = model.fit(partial_train_data, partial_train_targets,\n",
    "                        validation_data=(val_data, val_targets),\n",
    "                        epochs = num_epochs, batch_size = 1, verbose=0)\n",
    "    \n",
    "    # print(history.history.keys())\n",
    "    mae_history = history.history['val_mae']\n",
    "    all_mae_histories.append(mae_history)"
   ]
  },
  {
   "cell_type": "code",
   "execution_count": 14,
   "id": "e3e7ef7b",
   "metadata": {},
   "outputs": [],
   "source": [
    "average_mae_history = [np.mean([x[i] for x in all_mae_histories]) for i in range(num_epochs)]"
   ]
  },
  {
   "cell_type": "markdown",
   "id": "da387472",
   "metadata": {},
   "source": [
    "### Plotting validationi scores"
   ]
  },
  {
   "cell_type": "code",
   "execution_count": 15,
   "id": "9eb7d38f",
   "metadata": {},
   "outputs": [
    {
     "data": {
      "image/png": "[encoded data removed]",
      "text/plain": [
       "<Figure size 432x288 with 1 Axes>"
      ]
     },
     "metadata": {
      "needs_background": "light"
     },
     "output_type": "display_data"
    }
   ],
   "source": [
    "import matplotlib.pyplot as plt\n",
    "\n",
    "plt.plot(range(1, len(average_mae_history)+1), average_mae_history)\n",
    "plt.xlabel('Epochs')\n",
    "plt.ylabel('Validation MAE')\n",
    "plt.show()"
   ]
  },
  {
   "cell_type": "markdown",
   "id": "cb1a6f55",
   "metadata": {},
   "source": [
    "It may be a little difficult to see the plot, due to scaling issues and relatively high variance. Let's do the following:\n",
    "1. Omit the first 10 data points, which are on a different scale than the rest of curve\n",
    "2. Replace each point with an exponential moving average of the previous points, to obtain a smooth curve"
   ]
  },
  {
   "cell_type": "code",
   "execution_count": 22,
   "id": "0b0df932",
   "metadata": {},
   "outputs": [
    {
     "data": {
      "image/png": "[encoded data removed]",
      "text/plain": [
       "<Figure size 432x288 with 1 Axes>"
      ]
     },
     "metadata": {
      "needs_background": "light"
     },
     "output_type": "display_data"
    }
   ],
   "source": [
    "def smooth_curve(points, factor=0.9):\n",
    "    smoothed_points = []\n",
    "    for point in points:\n",
    "        if smoothed_points:\n",
    "            previous = smoothed_points[-1]\n",
    "            smoothed_points.append(previous*factor + point*(1- factor))\n",
    "        else:\n",
    "            smoothed_points.append(point)\n",
    "    return smoothed_points\n",
    "\n",
    "smoothed_mae_history = smooth_curve(average_mae_history[10:])\n",
    "\n",
    "plt.plot(range(1, len(smoothed_mae_history)+1), smoothed_mae_history)\n",
    "plt.xlabel('Epochs')\n",
    "plt.ylabel('Validation MAE')\n",
    "plt.show()"
   ]
  },
  {
   "cell_type": "markdown",
   "id": "b143a8c2",
   "metadata": {},
   "source": [
    "According to this plot, validation MAE stops improving significantly after 80epochs. Past that point, it begins overfitting. Once finishing tuning other parameters of the model, we can train a final production model on all of the training data, with best parameters, and then look at its performance on the test data."
   ]
  },
  {
   "cell_type": "code",
   "execution_count": 23,
   "id": "7bbcd23c",
   "metadata": {},
   "outputs": [
    {
     "name": "stdout",
     "output_type": "stream",
     "text": [
      "4/4 [==============================] - 0s 3ms/step - loss: 18.0326 - mae: 2.7171\n"
     ]
    },
    {
     "data": {
      "text/plain": [
       "2.7170941829681396"
      ]
     },
     "execution_count": 23,
     "metadata": {},
     "output_type": "execute_result"
    }
   ],
   "source": [
    "model = build_model()\n",
    "model.fit(train_data, train_targets,\n",
    "         epochs = 80, batch_size = 16, verbose = 0)\n",
    "test_mse_score, test_mae_score = model.evaluate(test_data, test_targets)\n",
    "\n",
    "test_mae_score"
   ]
  },
  {
   "cell_type": "markdown",
   "id": "cf749335",
   "metadata": {},
   "source": [
    "Even worse, what a life :)\n",
    "### Wrapping up\n",
    "1. Mean Squared Error is a loss function commonly used for regression.\n",
    "2. A common regression metric is mean absolute error (MAE).\n",
    "3. When features in the input data have values in different ranges, each feature should be scaled independently as a preprocessing step.\n",
    "4. When little training data is availabel, it's preferable to use a small network with few hidden layers."
   ]
  }
 ],
 "metadata": {
  "kernelspec": {
   "display_name": "Python 3",
   "language": "python",
   "name": "python3"
  },
  "language_info": {
   "codemirror_mode": {
    "name": "ipython",
    "version": 3
   },
   "file_extension": ".py",
   "mimetype": "text/x-python",
   "name": "python",
   "nbconvert_exporter": "python",
   "pygments_lexer": "ipython3",
   "version": "3.6.9"
  }
 },
 "nbformat": 4,
 "nbformat_minor": 5
}
